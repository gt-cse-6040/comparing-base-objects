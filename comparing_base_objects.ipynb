{
  "cells": [
    {
      "cell_type": "markdown",
      "metadata": {
        "id": "view-in-github",
        "colab_type": "text"
      },
      "source": [
        "<a href=\"https://colab.research.google.com/github/gt-cse-6040/comparing-base-objects/blob/main/comparing_base_objects.ipynb\" target=\"_parent\"><img src=\"https://colab.research.google.com/assets/colab-badge.svg\" alt=\"Open In Colab\"/></a>"
      ]
    },
    {
      "cell_type": "markdown",
      "source": [
        "# Comparing Basic Python Objects"
      ],
      "metadata": {
        "id": "wxYxADO-EAMM"
      }
    },
    {
      "cell_type": "markdown",
      "source": [
        "We can check whether two basic Python objects are equivalent by verifying that they are the same `type` and verifying that they have the same `value`. We will define some objects and demonstrate comparing them."
      ],
      "metadata": {
        "id": "e7uTljErEIHh"
      }
    },
    {
      "cell_type": "code",
      "source": [
        "int_a = 2004\n",
        "int_b = 2012\n",
        "int_c = 2004\n",
        "\n",
        "float_a = 2004.0\n",
        "float_b = 2012.0\n",
        "float_aa = 2004 + 10**(-12)\n",
        "\n",
        "bool_a = True\n",
        "bool_b = True\n",
        "bool_c = False\n",
        "\n",
        "str_a = \"2004\"\n",
        "str_b = \"2012\"\n",
        "str_c = \"2004\"\n"
      ],
      "metadata": {
        "id": "0OE-HwIgD_Nn"
      },
      "execution_count": 35,
      "outputs": []
    },
    {
      "cell_type": "markdown",
      "source": [
        "Now we can put them in an object to make it easier to compare them later."
      ],
      "metadata": {
        "id": "8xSiRdwgG3qu"
      }
    },
    {
      "cell_type": "code",
      "source": [
        "test_vars = {'int_a':int_a, 'int_b':int_b, 'int_c':int_c, \n",
        "             'float_a':float_a, 'float_b':float_b, 'float_aa':float_aa, \n",
        "             'bool_a':bool_a, 'bool_a':bool_a, 'bool_c': bool_c, \n",
        "             'str_a':str_a, 'str_b':str_b, 'str_c':str_c}\n"
      ],
      "metadata": {
        "id": "WWEfHEbzF10Y"
      },
      "execution_count": 36,
      "outputs": []
    },
    {
      "cell_type": "markdown",
      "source": [
        "Now let's define a function to verify that both are the same type. We will assume that the first variable (`x`) is known to be the desired type and value and (`y`) is the variable we're checking against it. Here's the plan:\n",
        "- Check if `y` is an instance of whatever class `x` is an instance of.\n",
        " - If there is a mismatch, return `False`.\n",
        "- Check to see if `x` is a `bool`, `str`, or `int` type. \n",
        "  - If it is one of those types, return `False` if the values are not the same.\n",
        "- Check to see if `x` is a `float`.\n",
        "  - Since `float` variables are approximations, we should specify some tolerance. If the absolute difference between `x` and `y` is less than or equal to the tolerance we will consider the values equal.\n",
        "  - If the absolute difference between `x` and `y` is above the tolerance we will return `False`.\n",
        "- If none of the previous steps returned `False`, return `True`\n",
        "\n",
        "We are going to need additional variables `tol` to specify the tolerance for floats and `verbose` to toggle some debugging messages."
      ],
      "metadata": {
        "id": "0QtNvTOKHD7i"
      }
    },
    {
      "cell_type": "code",
      "source": [
        "def compare_basic(x: any, y: any, verbose: bool=False, tol: float=0.0)->bool:\n",
        "\n",
        "  if not isinstance(y, type(x)):\n",
        "    if verbose: print(f'{type(x)} x is not the same type as {type(y)} y.')\n",
        "    return False\n",
        "\n",
        "  if isinstance(x, (int, bool, str)):\n",
        "    if x != y:\n",
        "      if verbose: print(f'{x} != {y}')\n",
        "      return \n",
        "      \n",
        "  if isinstance(x, float):\n",
        "    if abs(x-y) > tol:\n",
        "      if verbose: print(f'{x} != {y}')\n",
        "      return False\n",
        "\n",
        "  if verbose: print(f'{x} == {y}')\n",
        "  return True"
      ],
      "metadata": {
        "id": "zdbpUXHyF7dc"
      },
      "execution_count": 44,
      "outputs": []
    },
    {
      "cell_type": "markdown",
      "source": [
        "Now let's go through the combinations and compare."
      ],
      "metadata": {
        "id": "dNhnxrFaLCxG"
      }
    },
    {
      "cell_type": "code",
      "source": [
        "from itertools import combinations\n",
        "for k1, k2 in combinations(test_vars, 2):\n",
        "  print()\n",
        "  print(f'Comparing {k1} and {k2}')\n",
        "  compare_basic(test_vars[k1], test_vars[k2], verbose=True)"
      ],
      "metadata": {
        "id": "ejT4LjyBLH-Z",
        "outputId": "09ebcc02-218f-4331-bc64-33ccc89759b8",
        "colab": {
          "base_uri": "https://localhost:8080/"
        }
      },
      "execution_count": 45,
      "outputs": [
        {
          "output_type": "stream",
          "name": "stdout",
          "text": [
            "\n",
            "Comparing int_a and int_b\n",
            "2004 != 2012\n",
            "\n",
            "Comparing int_a and int_c\n",
            "2004 == 2004\n",
            "\n",
            "Comparing int_a and float_a\n",
            "<class 'int'> x is not the same type as <class 'float'> y.\n",
            "\n",
            "Comparing int_a and float_b\n",
            "<class 'int'> x is not the same type as <class 'float'> y.\n",
            "\n",
            "Comparing int_a and float_aa\n",
            "<class 'int'> x is not the same type as <class 'float'> y.\n",
            "\n",
            "Comparing int_a and bool_a\n",
            "2004 != True\n",
            "\n",
            "Comparing int_a and bool_c\n",
            "2004 != False\n",
            "\n",
            "Comparing int_a and str_a\n",
            "<class 'int'> x is not the same type as <class 'str'> y.\n",
            "\n",
            "Comparing int_a and str_b\n",
            "<class 'int'> x is not the same type as <class 'str'> y.\n",
            "\n",
            "Comparing int_a and str_c\n",
            "<class 'int'> x is not the same type as <class 'str'> y.\n",
            "\n",
            "Comparing int_b and int_c\n",
            "2012 != 2004\n",
            "\n",
            "Comparing int_b and float_a\n",
            "<class 'int'> x is not the same type as <class 'float'> y.\n",
            "\n",
            "Comparing int_b and float_b\n",
            "<class 'int'> x is not the same type as <class 'float'> y.\n",
            "\n",
            "Comparing int_b and float_aa\n",
            "<class 'int'> x is not the same type as <class 'float'> y.\n",
            "\n",
            "Comparing int_b and bool_a\n",
            "2012 != True\n",
            "\n",
            "Comparing int_b and bool_c\n",
            "2012 != False\n",
            "\n",
            "Comparing int_b and str_a\n",
            "<class 'int'> x is not the same type as <class 'str'> y.\n",
            "\n",
            "Comparing int_b and str_b\n",
            "<class 'int'> x is not the same type as <class 'str'> y.\n",
            "\n",
            "Comparing int_b and str_c\n",
            "<class 'int'> x is not the same type as <class 'str'> y.\n",
            "\n",
            "Comparing int_c and float_a\n",
            "<class 'int'> x is not the same type as <class 'float'> y.\n",
            "\n",
            "Comparing int_c and float_b\n",
            "<class 'int'> x is not the same type as <class 'float'> y.\n",
            "\n",
            "Comparing int_c and float_aa\n",
            "<class 'int'> x is not the same type as <class 'float'> y.\n",
            "\n",
            "Comparing int_c and bool_a\n",
            "2004 != True\n",
            "\n",
            "Comparing int_c and bool_c\n",
            "2004 != False\n",
            "\n",
            "Comparing int_c and str_a\n",
            "<class 'int'> x is not the same type as <class 'str'> y.\n",
            "\n",
            "Comparing int_c and str_b\n",
            "<class 'int'> x is not the same type as <class 'str'> y.\n",
            "\n",
            "Comparing int_c and str_c\n",
            "<class 'int'> x is not the same type as <class 'str'> y.\n",
            "\n",
            "Comparing float_a and float_b\n",
            "2004.0 != 2012.0\n",
            "\n",
            "Comparing float_a and float_aa\n",
            "2004.0 != 2004.000000000001\n",
            "\n",
            "Comparing float_a and bool_a\n",
            "<class 'float'> x is not the same type as <class 'bool'> y.\n",
            "\n",
            "Comparing float_a and bool_c\n",
            "<class 'float'> x is not the same type as <class 'bool'> y.\n",
            "\n",
            "Comparing float_a and str_a\n",
            "<class 'float'> x is not the same type as <class 'str'> y.\n",
            "\n",
            "Comparing float_a and str_b\n",
            "<class 'float'> x is not the same type as <class 'str'> y.\n",
            "\n",
            "Comparing float_a and str_c\n",
            "<class 'float'> x is not the same type as <class 'str'> y.\n",
            "\n",
            "Comparing float_b and float_aa\n",
            "2012.0 != 2004.000000000001\n",
            "\n",
            "Comparing float_b and bool_a\n",
            "<class 'float'> x is not the same type as <class 'bool'> y.\n",
            "\n",
            "Comparing float_b and bool_c\n",
            "<class 'float'> x is not the same type as <class 'bool'> y.\n",
            "\n",
            "Comparing float_b and str_a\n",
            "<class 'float'> x is not the same type as <class 'str'> y.\n",
            "\n",
            "Comparing float_b and str_b\n",
            "<class 'float'> x is not the same type as <class 'str'> y.\n",
            "\n",
            "Comparing float_b and str_c\n",
            "<class 'float'> x is not the same type as <class 'str'> y.\n",
            "\n",
            "Comparing float_aa and bool_a\n",
            "<class 'float'> x is not the same type as <class 'bool'> y.\n",
            "\n",
            "Comparing float_aa and bool_c\n",
            "<class 'float'> x is not the same type as <class 'bool'> y.\n",
            "\n",
            "Comparing float_aa and str_a\n",
            "<class 'float'> x is not the same type as <class 'str'> y.\n",
            "\n",
            "Comparing float_aa and str_b\n",
            "<class 'float'> x is not the same type as <class 'str'> y.\n",
            "\n",
            "Comparing float_aa and str_c\n",
            "<class 'float'> x is not the same type as <class 'str'> y.\n",
            "\n",
            "Comparing bool_a and bool_c\n",
            "True != False\n",
            "\n",
            "Comparing bool_a and str_a\n",
            "<class 'bool'> x is not the same type as <class 'str'> y.\n",
            "\n",
            "Comparing bool_a and str_b\n",
            "<class 'bool'> x is not the same type as <class 'str'> y.\n",
            "\n",
            "Comparing bool_a and str_c\n",
            "<class 'bool'> x is not the same type as <class 'str'> y.\n",
            "\n",
            "Comparing bool_c and str_a\n",
            "<class 'bool'> x is not the same type as <class 'str'> y.\n",
            "\n",
            "Comparing bool_c and str_b\n",
            "<class 'bool'> x is not the same type as <class 'str'> y.\n",
            "\n",
            "Comparing bool_c and str_c\n",
            "<class 'bool'> x is not the same type as <class 'str'> y.\n",
            "\n",
            "Comparing str_a and str_b\n",
            "2004 != 2012\n",
            "\n",
            "Comparing str_a and str_c\n",
            "2004 == 2004\n",
            "\n",
            "Comparing str_b and str_c\n",
            "2012 != 2004\n"
          ]
        }
      ]
    },
    {
      "cell_type": "markdown",
      "source": [
        "That's a lot to go through, but with the verbose output it is clear that we are getting what we expect. We should probably see if changing the tolerance has an effect on comparing `float_a` and `float_aa`"
      ],
      "metadata": {
        "id": "ArPb3s4zQr8Q"
      }
    },
    {
      "cell_type": "code",
      "source": [
        "compare_basic(float_a, float_aa, verbose=True, tol=0.00001)"
      ],
      "metadata": {
        "id": "Ba0n0HwuMDLR",
        "outputId": "65606577-96c4-4c73-8236-fa5418de8002",
        "colab": {
          "base_uri": "https://localhost:8080/"
        }
      },
      "execution_count": 46,
      "outputs": [
        {
          "output_type": "stream",
          "name": "stdout",
          "text": [
            "2004.0 == 2004.000000000001\n"
          ]
        },
        {
          "output_type": "execute_result",
          "data": {
            "text/plain": [
              "True"
            ]
          },
          "metadata": {},
          "execution_count": 46
        }
      ]
    },
    {
      "cell_type": "markdown",
      "source": [
        "Changing the threshold had the desired effect of ignoring the small difference between floating point numbers."
      ],
      "metadata": {
        "id": "lYGNnLlNTYSb"
      }
    },
    {
      "cell_type": "markdown",
      "source": [
        "# Comparing Nested Objects"
      ],
      "metadata": {
        "id": "ZHyPtRMlTmfL"
      }
    },
    {
      "cell_type": "code",
      "source": [
        "def compare_nested(x: any, y: any, verbose: bool=False, tol: float=0.0)->bool:\n",
        "  if not isinstance(y, type(x)):\n",
        "    if verbose: print(f'{type(x)} x is not the same type as {type(y)} y.')\n",
        "    return False\n",
        "  if isinstance(x, (int, float, bool, str)):\n",
        "    return compare_basic(x, y, verbose=verbose, tol=tol)\n",
        "  if isinstance(x, set):\n",
        "    if len(x) != len(y):\n",
        "      if verbose: print(f'x ({len(x)}) and y ({len(y)}) have different sizes.')\n",
        "      return False\n",
        "    if len(x - y) > 0:\n",
        "      if verbose: print('The two sets contain different items.')\n",
        "      return False\n",
        "  if isinstance(x, (list, tuple)):\n",
        "    if len(x) != len(y):\n",
        "      if verbose: print(f'Lists x ({len(x)}) and y ({len(y)}) have different lengths.')\n",
        "      return False\n",
        "    for x_i, y_i in zip(x, y):\n",
        "      if not compare_nested(x_i, y_i, verbose=verbose, tol=tol):\n",
        "        if verbose: print('Child objects in lists not equal.')\n",
        "        return False\n",
        "  if isinstance(x, dict):\n",
        "    if x.keys() != y.keys():\n",
        "      if verbose: print('Dict keys do not match.')\n",
        "      return False\n",
        "    for k in x:\n",
        "      if not compare_nested(x[k], y[k], verbose=verbose, tol=tol):\n",
        "        if verbose: print('Child objects in dicts not equal.')\n",
        "        return False\n",
        "  if verbose: print('Nested Structures Equivalent')\n",
        "  return True"
      ],
      "metadata": {
        "id": "uOV99f8DT3xE"
      },
      "execution_count": null,
      "outputs": []
    }
  ],
  "metadata": {
    "colab": {
      "collapsed_sections": [],
      "name": "Overview of Colaboratory Features",
      "provenance": [],
      "include_colab_link": true
    },
    "kernelspec": {
      "display_name": "Python 3",
      "name": "python3"
    }
  },
  "nbformat": 4,
  "nbformat_minor": 0
}
