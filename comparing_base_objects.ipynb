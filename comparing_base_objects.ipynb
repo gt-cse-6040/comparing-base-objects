{
  "cells": [
    {
      "cell_type": "markdown",
      "metadata": {
        "id": "view-in-github",
        "colab_type": "text"
      },
      "source": [
        "<a href=\"https://colab.research.google.com/github/gt-cse-6040/comparing-base-objects/blob/main/comparing_base_objects.ipynb\" target=\"_parent\"><img src=\"https://colab.research.google.com/assets/colab-badge.svg\" alt=\"Open In Colab\"/></a>"
      ]
    },
    {
      "cell_type": "markdown",
      "source": [
        "# Comparing Basic Python Objects\n",
        "\n",
        "You will often find yourself in a situation where you need to determine if two Python objects are \"the same\", or more specifically that a Python variable that you generated is the same as a known, available result. This is applicable both for academic assignments with automated grading or in real-world use cases where you may have to refactor code to use new technology but require the same results as the legacy code."
      ],
      "metadata": {
        "id": "wxYxADO-EAMM"
      }
    },
    {
      "cell_type": "markdown",
      "source": [
        "We can check whether two basic Python objects are equivalent by verifying that they are the same `type` and verifying that they have the same `value`. We will define some objects and demonstrate comparing them."
      ],
      "metadata": {
        "id": "e7uTljErEIHh"
      }
    },
    {
      "cell_type": "code",
      "source": [
        "int_a = 2004\n",
        "int_b = 2012\n",
        "int_c = 2004\n",
        "\n",
        "float_a = 2004.0\n",
        "float_b = 2012.0\n",
        "float_aa = 2004 + 10**(-12)\n",
        "\n",
        "bool_a = True\n",
        "bool_b = True\n",
        "bool_c = False\n",
        "\n",
        "str_a = \"2004\"\n",
        "str_b = \"2012\"\n",
        "str_c = \"2004\"\n"
      ],
      "metadata": {
        "id": "0OE-HwIgD_Nn"
      },
      "execution_count": null,
      "outputs": []
    },
    {
      "cell_type": "markdown",
      "source": [
        "Now we can put them in an object to make it easier to compare them later."
      ],
      "metadata": {
        "id": "8xSiRdwgG3qu"
      }
    },
    {
      "cell_type": "code",
      "source": [
        "test_vars = {'int_a':int_a, 'int_b':int_b, 'int_c':int_c, \n",
        "             'float_a':float_a, 'float_b':float_b, 'float_aa':float_aa, \n",
        "             'bool_a':bool_a, 'bool_a':bool_a, 'bool_c': bool_c, \n",
        "             'str_a':str_a, 'str_b':str_b, 'str_c':str_c}\n"
      ],
      "metadata": {
        "id": "WWEfHEbzF10Y"
      },
      "execution_count": null,
      "outputs": []
    },
    {
      "cell_type": "markdown",
      "source": [
        "Now let's define a function to verify that both are the same type. We will assume that the first variable (`x`) is known to be the desired type and value and (`y`) is the variable we're checking against it. Here's the plan:\n",
        "- Check if `y` is an instance of whatever class `x` is an instance of.\n",
        " - If there is a mismatch, return `False`.\n",
        "- Check to see if `x` is a `bool`, `str`, or `int` type. \n",
        "  - If it is one of those types, return `False` if the values are not the same.\n",
        "- Check to see if `x` is a `float`.\n",
        "  - Since `float` variables are approximations, we should specify some tolerance. If the absolute difference between `x` and `y` is less than or equal to the tolerance we will consider the values equal.\n",
        "  - If the absolute difference between `x` and `y` is above the tolerance we will return `False`.\n",
        "- If none of the previous steps returned `False`, return `True`\n",
        "\n",
        "We are going to need additional variables `tol` to specify the tolerance for floats and `verbose` to toggle some debugging messages."
      ],
      "metadata": {
        "id": "0QtNvTOKHD7i"
      }
    },
    {
      "cell_type": "code",
      "source": [
        "def compare_basic(x: any, y: any, verbose: bool=False, tol: float=0.0)->bool:\n",
        "\n",
        "  if not isinstance(y, type(x)):\n",
        "    if verbose: print(f'{type(x)} x is not the same type as {type(y)} y.')\n",
        "    return False\n",
        "\n",
        "  if isinstance(x, (int, bool, str)):\n",
        "    if x != y:\n",
        "      if verbose: print(f'{x} != {y}')\n",
        "      return \n",
        "      \n",
        "  if isinstance(x, float):\n",
        "    if abs(x-y) > tol:\n",
        "      if verbose: print(f'{x} != {y}')\n",
        "      return False\n",
        "\n",
        "  if verbose: print(f'{x} == {y}')\n",
        "  return True"
      ],
      "metadata": {
        "id": "zdbpUXHyF7dc"
      },
      "execution_count": null,
      "outputs": []
    },
    {
      "cell_type": "markdown",
      "source": [
        "Now let's go through the combinations and compare."
      ],
      "metadata": {
        "id": "dNhnxrFaLCxG"
      }
    },
    {
      "cell_type": "code",
      "source": [
        "from itertools import combinations\n",
        "for k1, k2 in combinations(test_vars, 2):\n",
        "  print()\n",
        "  print(f'Comparing {k1} and {k2}')\n",
        "  compare_basic(test_vars[k1], test_vars[k2], verbose=True)"
      ],
      "metadata": {
        "id": "ejT4LjyBLH-Z",
        "outputId": "09ebcc02-218f-4331-bc64-33ccc89759b8",
        "colab": {
          "base_uri": "https://localhost:8080/"
        }
      },
      "execution_count": null,
      "outputs": [
        {
          "output_type": "stream",
          "name": "stdout",
          "text": [
            "\n",
            "Comparing int_a and int_b\n",
            "2004 != 2012\n",
            "\n",
            "Comparing int_a and int_c\n",
            "2004 == 2004\n",
            "\n",
            "Comparing int_a and float_a\n",
            "<class 'int'> x is not the same type as <class 'float'> y.\n",
            "\n",
            "Comparing int_a and float_b\n",
            "<class 'int'> x is not the same type as <class 'float'> y.\n",
            "\n",
            "Comparing int_a and float_aa\n",
            "<class 'int'> x is not the same type as <class 'float'> y.\n",
            "\n",
            "Comparing int_a and bool_a\n",
            "2004 != True\n",
            "\n",
            "Comparing int_a and bool_c\n",
            "2004 != False\n",
            "\n",
            "Comparing int_a and str_a\n",
            "<class 'int'> x is not the same type as <class 'str'> y.\n",
            "\n",
            "Comparing int_a and str_b\n",
            "<class 'int'> x is not the same type as <class 'str'> y.\n",
            "\n",
            "Comparing int_a and str_c\n",
            "<class 'int'> x is not the same type as <class 'str'> y.\n",
            "\n",
            "Comparing int_b and int_c\n",
            "2012 != 2004\n",
            "\n",
            "Comparing int_b and float_a\n",
            "<class 'int'> x is not the same type as <class 'float'> y.\n",
            "\n",
            "Comparing int_b and float_b\n",
            "<class 'int'> x is not the same type as <class 'float'> y.\n",
            "\n",
            "Comparing int_b and float_aa\n",
            "<class 'int'> x is not the same type as <class 'float'> y.\n",
            "\n",
            "Comparing int_b and bool_a\n",
            "2012 != True\n",
            "\n",
            "Comparing int_b and bool_c\n",
            "2012 != False\n",
            "\n",
            "Comparing int_b and str_a\n",
            "<class 'int'> x is not the same type as <class 'str'> y.\n",
            "\n",
            "Comparing int_b and str_b\n",
            "<class 'int'> x is not the same type as <class 'str'> y.\n",
            "\n",
            "Comparing int_b and str_c\n",
            "<class 'int'> x is not the same type as <class 'str'> y.\n",
            "\n",
            "Comparing int_c and float_a\n",
            "<class 'int'> x is not the same type as <class 'float'> y.\n",
            "\n",
            "Comparing int_c and float_b\n",
            "<class 'int'> x is not the same type as <class 'float'> y.\n",
            "\n",
            "Comparing int_c and float_aa\n",
            "<class 'int'> x is not the same type as <class 'float'> y.\n",
            "\n",
            "Comparing int_c and bool_a\n",
            "2004 != True\n",
            "\n",
            "Comparing int_c and bool_c\n",
            "2004 != False\n",
            "\n",
            "Comparing int_c and str_a\n",
            "<class 'int'> x is not the same type as <class 'str'> y.\n",
            "\n",
            "Comparing int_c and str_b\n",
            "<class 'int'> x is not the same type as <class 'str'> y.\n",
            "\n",
            "Comparing int_c and str_c\n",
            "<class 'int'> x is not the same type as <class 'str'> y.\n",
            "\n",
            "Comparing float_a and float_b\n",
            "2004.0 != 2012.0\n",
            "\n",
            "Comparing float_a and float_aa\n",
            "2004.0 != 2004.000000000001\n",
            "\n",
            "Comparing float_a and bool_a\n",
            "<class 'float'> x is not the same type as <class 'bool'> y.\n",
            "\n",
            "Comparing float_a and bool_c\n",
            "<class 'float'> x is not the same type as <class 'bool'> y.\n",
            "\n",
            "Comparing float_a and str_a\n",
            "<class 'float'> x is not the same type as <class 'str'> y.\n",
            "\n",
            "Comparing float_a and str_b\n",
            "<class 'float'> x is not the same type as <class 'str'> y.\n",
            "\n",
            "Comparing float_a and str_c\n",
            "<class 'float'> x is not the same type as <class 'str'> y.\n",
            "\n",
            "Comparing float_b and float_aa\n",
            "2012.0 != 2004.000000000001\n",
            "\n",
            "Comparing float_b and bool_a\n",
            "<class 'float'> x is not the same type as <class 'bool'> y.\n",
            "\n",
            "Comparing float_b and bool_c\n",
            "<class 'float'> x is not the same type as <class 'bool'> y.\n",
            "\n",
            "Comparing float_b and str_a\n",
            "<class 'float'> x is not the same type as <class 'str'> y.\n",
            "\n",
            "Comparing float_b and str_b\n",
            "<class 'float'> x is not the same type as <class 'str'> y.\n",
            "\n",
            "Comparing float_b and str_c\n",
            "<class 'float'> x is not the same type as <class 'str'> y.\n",
            "\n",
            "Comparing float_aa and bool_a\n",
            "<class 'float'> x is not the same type as <class 'bool'> y.\n",
            "\n",
            "Comparing float_aa and bool_c\n",
            "<class 'float'> x is not the same type as <class 'bool'> y.\n",
            "\n",
            "Comparing float_aa and str_a\n",
            "<class 'float'> x is not the same type as <class 'str'> y.\n",
            "\n",
            "Comparing float_aa and str_b\n",
            "<class 'float'> x is not the same type as <class 'str'> y.\n",
            "\n",
            "Comparing float_aa and str_c\n",
            "<class 'float'> x is not the same type as <class 'str'> y.\n",
            "\n",
            "Comparing bool_a and bool_c\n",
            "True != False\n",
            "\n",
            "Comparing bool_a and str_a\n",
            "<class 'bool'> x is not the same type as <class 'str'> y.\n",
            "\n",
            "Comparing bool_a and str_b\n",
            "<class 'bool'> x is not the same type as <class 'str'> y.\n",
            "\n",
            "Comparing bool_a and str_c\n",
            "<class 'bool'> x is not the same type as <class 'str'> y.\n",
            "\n",
            "Comparing bool_c and str_a\n",
            "<class 'bool'> x is not the same type as <class 'str'> y.\n",
            "\n",
            "Comparing bool_c and str_b\n",
            "<class 'bool'> x is not the same type as <class 'str'> y.\n",
            "\n",
            "Comparing bool_c and str_c\n",
            "<class 'bool'> x is not the same type as <class 'str'> y.\n",
            "\n",
            "Comparing str_a and str_b\n",
            "2004 != 2012\n",
            "\n",
            "Comparing str_a and str_c\n",
            "2004 == 2004\n",
            "\n",
            "Comparing str_b and str_c\n",
            "2012 != 2004\n"
          ]
        }
      ]
    },
    {
      "cell_type": "markdown",
      "source": [
        "That's a lot to go through, but with the verbose output it is clear that we are getting what we expect. We should probably see if changing the tolerance has an effect on comparing `float_a` and `float_aa`"
      ],
      "metadata": {
        "id": "ArPb3s4zQr8Q"
      }
    },
    {
      "cell_type": "code",
      "source": [
        "compare_basic(float_a, float_aa, verbose=True, tol=0.00001)"
      ],
      "metadata": {
        "id": "Ba0n0HwuMDLR",
        "outputId": "65606577-96c4-4c73-8236-fa5418de8002",
        "colab": {
          "base_uri": "https://localhost:8080/"
        }
      },
      "execution_count": null,
      "outputs": [
        {
          "output_type": "stream",
          "name": "stdout",
          "text": [
            "2004.0 == 2004.000000000001\n"
          ]
        },
        {
          "output_type": "execute_result",
          "data": {
            "text/plain": [
              "True"
            ]
          },
          "metadata": {},
          "execution_count": 46
        }
      ]
    },
    {
      "cell_type": "markdown",
      "source": [
        "Changing the threshold had the desired effect of ignoring the small difference between floating point numbers."
      ],
      "metadata": {
        "id": "lYGNnLlNTYSb"
      }
    },
    {
      "cell_type": "markdown",
      "source": [
        "# Comparing Collections of Objects\n",
        "\n",
        "Python has 4 basic collection types:\n",
        "- `set` - a mutable, unordered collection of immutable, hashable objects.\n",
        "- `tuple` - an unmutable, ordered collection of objects.\n",
        "- `list` - a mutable, ordered collection of objects.\n",
        "- `dict` - an unordered collection of unmutable keys mapped to object values."
      ],
      "metadata": {
        "id": "ZHyPtRMlTmfL"
      }
    },
    {
      "cell_type": "markdown",
      "source": [
        "The challenge in comparing `tuple`, `list`, or `dict` collection objects is that the child objects can be collections themselves. Sets are a little different because everything in a `set` object must be hashable - i.e. the child objects must be recursively immutable. For two collections to be equal, they must meet the criteria below.\n",
        "\n",
        "- Both collections must be of the same type.\n",
        "- Both collections must contain the same number of child objects.\n",
        "- `set` objects must contain the same child objects - i.e. the difference between the two sets must be the empty set.\n",
        "- `list` and `tuple` objects must have equal child objects (of any type) at the same positions.\n",
        "- `dict` objects must have the same keys and have equal child objects (of any type) mapped to those keys.\n",
        "\n"
      ],
      "metadata": {
        "id": "IcWf7XUUf6aS"
      }
    },
    {
      "cell_type": "markdown",
      "source": [
        "We will write a function to evaluate whether two collection objects `x` and `y` are equal. Due to the potential for \"nesting\" we must use recursively check the child objects of `list`, `tuple`, and `dict` objects for equality using the same strategy used to check the parent function.\n",
        "\n",
        "**On Recursion**\n",
        "\n",
        "For the purposes of this discussion, recursion is the programming design pattern where a function calls itself under certain conditions. To work properly, there must also be a \"base case\" where all recursive calls must eventually reach.\n",
        "\n",
        "Consider the familiar concept of a factorial: $n! = n(n-1)!;\\ 0! = 1$ Below is that same recursive mathematical function in Python."
      ],
      "metadata": {
        "id": "eKXg00RvjEae"
      }
    },
    {
      "cell_type": "code",
      "source": [
        "def factorial(n: int):\n",
        "  if n == 0:                            # base case\n",
        "    return 1\n",
        "  fac =  factorial(n-1)*n               # recursive call\n",
        "  print(f'{n}! = {n}({n-1})! = {fac}')  # print recursive step for demonstration purposes\n",
        "  return fac                            # return statement\n",
        "factorial(8)"
      ],
      "metadata": {
        "id": "BuSe9cznmLzq",
        "outputId": "865d896d-f908-46a0-e370-de69b3fffb5e",
        "colab": {
          "base_uri": "https://localhost:8080/"
        }
      },
      "execution_count": null,
      "outputs": [
        {
          "output_type": "stream",
          "name": "stdout",
          "text": [
            "1! = 1(0)! = 1\n",
            "2! = 2(1)! = 2\n",
            "3! = 3(2)! = 6\n",
            "4! = 4(3)! = 24\n",
            "5! = 5(4)! = 120\n",
            "6! = 6(5)! = 720\n",
            "7! = 7(6)! = 5040\n",
            "8! = 8(7)! = 40320\n"
          ]
        },
        {
          "output_type": "execute_result",
          "data": {
            "text/plain": [
              "40320"
            ]
          },
          "metadata": {},
          "execution_count": 3
        }
      ]
    },
    {
      "cell_type": "markdown",
      "source": [
        "Now that we understand recursion, we can apply it to our use case. Here's the plan for our function to compare Python collection objects.\n",
        "\n",
        "- Verify objects are the same type.\n",
        "- If the objects are basic types (`int`, `bool`, `str`, or `float`) use the `compare_basic` function from above to compare.\n",
        "  - This is one base case.\n",
        "- If the objects are `set` types verify that the sets are the same size and that the set difference between them is the empty set.\n",
        "- If the objects are `list` or `tuple` types verify that they are the same length and iterate through them. Recursively verify that each pair of child objects is equal.\n",
        "- If the objects are `dict` types verify that they have the same keys and iterate through the objects mapped to each key in both dictionaries. Recursively verify that each pair of child objects is equal.\n",
        "\n",
        "As before, we will need to specify a tolerance for comparison of floats and a `verbose` flag to indicate whether to print the messages or suppress them."
      ],
      "metadata": {
        "id": "BZ4aBSCloTgJ"
      }
    },
    {
      "cell_type": "code",
      "source": [
        "def compare_nested(x: any, y: any, verbose: bool=False, tol: float=0.0, lvl=0)->bool:\n",
        "  if not isinstance(y, type(x)):\n",
        "    if verbose: print(f'{type(x)} x is not the same type as {type(y)} y. lvl={lvl}.')\n",
        "    return False\n",
        "  if isinstance(x, (int, float, bool, str)):\n",
        "    return compare_basic(x, y, verbose=verbose, tol=tol)\n",
        "  if isinstance(x, set):\n",
        "    if len(x) != len(y):\n",
        "      if verbose: print(f'x ({len(x)}) and y ({len(y)}) have different sizes. lvl={lvl}.')\n",
        "      return False\n",
        "    if len(x - y) > 0:\n",
        "      if verbose: print(f'The two sets contain different items. lvl={lvl}.')\n",
        "      return False\n",
        "  if isinstance(x, (list, tuple)):\n",
        "    if len(x) != len(y):\n",
        "      if verbose: print(f'Lists x ({len(x)}) and y ({len(y)}) have different lengths. lvl={lvl}.')\n",
        "      return False\n",
        "    for x_i, y_i in zip(x, y):\n",
        "      if not compare_nested(x_i, y_i, verbose=verbose, tol=tol, lvl=lvl+1):\n",
        "        if verbose: print(f'Child objects in lists not equal. lvl={lvl}.')\n",
        "        return False\n",
        "  if isinstance(x, dict):\n",
        "    if x.keys() != y.keys():\n",
        "      if verbose: print(f'Dict keys do not match. lvl={lvl}.')\n",
        "      return False\n",
        "    for k in x:\n",
        "      if not compare_nested(x[k], y[k], verbose=verbose, tol=tol, lvl=lvl+1):\n",
        "        if verbose: print(f'Child objects in dicts not equal. lvl={lvl}.')\n",
        "        return False\n",
        "  if verbose: print(f'Nested Structures Equivalent. lvl={lvl}.')\n",
        "  return True"
      ],
      "metadata": {
        "id": "uOV99f8DT3xE"
      },
      "execution_count": null,
      "outputs": []
    },
    {
      "cell_type": "markdown",
      "source": [
        "Now we will define some test variables to demonstrate the function. The comments indicate how each `dict` compares to `d1`."
      ],
      "metadata": {
        "id": "5sdRgrGktaDb"
      }
    },
    {
      "cell_type": "code",
      "source": [
        "d1 = {'k1': (2, 3), 'k2':(4, 8), 'k3': 'something', 'k4': [(2,3), (9, 12, 4)], 'k5': {'foo', 'bar', 'miz'}}\n",
        "d2 = {'k1': (2, 3), 'k2':(4, 8), 'k3': 'something', 'k4': [(2,3), (9, 12, 4)], 'k5': {'foo', 'bar', 'miz'}} # same as d1\n",
        "d3 = {'k1': (2, 3), 'k2':(4, 8), 'k3': 'something', 'kk4': [(2,3), (9, 12, 4)], 'k5': {'foo', 'bar', 'miz'}} # different keys\n",
        "d4 = {'k1': (2, 3), 'k2':(4, 8), 'k3': 'something', 'k4': [(2,3), (9, 12, 0)], 'k5': {'foo', 'bar', 'miz'}} # different list items\n",
        "d5 = {'k1': (2, 3), 'k2':(4, 8), 'k3': 'something', 'k4': [(2,3), (9, 12, 4)], 'k5': {'foo', 'bar', 'moz'}} # different sets"
      ],
      "metadata": {
        "id": "wO8Kc_63qSjR"
      },
      "execution_count": null,
      "outputs": []
    },
    {
      "cell_type": "markdown",
      "source": [
        "Now we will try it out."
      ],
      "metadata": {
        "id": "ntvUsyixtnrq"
      }
    },
    {
      "cell_type": "code",
      "source": [
        "compare_nested(d1, d2, verbose=True)"
      ],
      "metadata": {
        "id": "DzxnZQrTrmKp",
        "outputId": "e27eefed-e038-49bc-90f7-0fd93da04f08",
        "colab": {
          "base_uri": "https://localhost:8080/"
        }
      },
      "execution_count": null,
      "outputs": [
        {
          "output_type": "stream",
          "name": "stdout",
          "text": [
            "2 == 2\n",
            "3 == 3\n",
            "Nested Structures Equivalent. lvl=1.\n",
            "4 == 4\n",
            "8 == 8\n",
            "Nested Structures Equivalent. lvl=1.\n",
            "something == something\n",
            "2 == 2\n",
            "3 == 3\n",
            "Nested Structures Equivalent. lvl=2.\n",
            "9 == 9\n",
            "12 == 12\n",
            "4 == 4\n",
            "Nested Structures Equivalent. lvl=2.\n",
            "Nested Structures Equivalent. lvl=1.\n",
            "Nested Structures Equivalent. lvl=1.\n",
            "Nested Structures Equivalent. lvl=0.\n"
          ]
        },
        {
          "output_type": "execute_result",
          "data": {
            "text/plain": [
              "True"
            ]
          },
          "metadata": {},
          "execution_count": 19
        }
      ]
    },
    {
      "cell_type": "code",
      "source": [
        "compare_nested(d1, d3, verbose=True)"
      ],
      "metadata": {
        "id": "gfupMBzxsBE2",
        "outputId": "075c3359-e391-4929-ccaf-8fd6b3c43eaf",
        "colab": {
          "base_uri": "https://localhost:8080/"
        }
      },
      "execution_count": null,
      "outputs": [
        {
          "output_type": "stream",
          "name": "stdout",
          "text": [
            "Dict keys do not match. lvl=0.\n"
          ]
        },
        {
          "output_type": "execute_result",
          "data": {
            "text/plain": [
              "False"
            ]
          },
          "metadata": {},
          "execution_count": 20
        }
      ]
    },
    {
      "cell_type": "code",
      "source": [
        "compare_nested(d1, d4, verbose=True)"
      ],
      "metadata": {
        "id": "MwVBrCffsH0m",
        "outputId": "21c33555-ea6c-4b1b-f251-71fa21e659ba",
        "colab": {
          "base_uri": "https://localhost:8080/"
        }
      },
      "execution_count": null,
      "outputs": [
        {
          "output_type": "stream",
          "name": "stdout",
          "text": [
            "2 == 2\n",
            "3 == 3\n",
            "Nested Structures Equivalent. lvl=1.\n",
            "4 == 4\n",
            "8 == 8\n",
            "Nested Structures Equivalent. lvl=1.\n",
            "something == something\n",
            "2 == 2\n",
            "3 == 3\n",
            "Nested Structures Equivalent. lvl=2.\n",
            "9 == 9\n",
            "12 == 12\n",
            "4 != 0\n",
            "Child objects in lists not equal. lvl=2.\n",
            "Child objects in lists not equal. lvl=1.\n",
            "Child objects in dicts not equal. lvl=0.\n"
          ]
        },
        {
          "output_type": "execute_result",
          "data": {
            "text/plain": [
              "False"
            ]
          },
          "metadata": {},
          "execution_count": 21
        }
      ]
    },
    {
      "cell_type": "code",
      "source": [
        "compare_nested(d1, d5, verbose=True)"
      ],
      "metadata": {
        "id": "gO5IU16usPJm",
        "outputId": "8590b262-0b53-41e7-d18e-946bce91c4c5",
        "colab": {
          "base_uri": "https://localhost:8080/"
        }
      },
      "execution_count": null,
      "outputs": [
        {
          "output_type": "stream",
          "name": "stdout",
          "text": [
            "2 == 2\n",
            "3 == 3\n",
            "Nested Structures Equivalent. lvl=1.\n",
            "4 == 4\n",
            "8 == 8\n",
            "Nested Structures Equivalent. lvl=1.\n",
            "something == something\n",
            "2 == 2\n",
            "3 == 3\n",
            "Nested Structures Equivalent. lvl=2.\n",
            "9 == 9\n",
            "12 == 12\n",
            "4 == 4\n",
            "Nested Structures Equivalent. lvl=2.\n",
            "Nested Structures Equivalent. lvl=1.\n",
            "The two sets contain different items. lvl=1.\n",
            "Child objects in dicts not equal. lvl=0.\n"
          ]
        },
        {
          "output_type": "execute_result",
          "data": {
            "text/plain": [
              "False"
            ]
          },
          "metadata": {},
          "execution_count": 22
        }
      ]
    },
    {
      "cell_type": "markdown",
      "source": [
        "# Wrap up\n",
        "\n",
        "That completes the introduction to comparing base Python objects. You can use these comparison functions in your debugging. You may want to modify the behavior of the `verbose` flag to only display messages on mismatches when comparing large objects."
      ],
      "metadata": {
        "id": "eKL_Mz3DttAn"
      }
    }
  ],
  "metadata": {
    "colab": {
      "collapsed_sections": [],
      "name": "Overview of Colaboratory Features",
      "provenance": [],
      "include_colab_link": true
    },
    "kernelspec": {
      "display_name": "Python 3",
      "name": "python3"
    }
  },
  "nbformat": 4,
  "nbformat_minor": 0
}